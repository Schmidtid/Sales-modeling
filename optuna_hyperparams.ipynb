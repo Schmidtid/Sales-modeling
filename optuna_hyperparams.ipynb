{
 "cells": [
  {
   "cell_type": "code",
   "execution_count": 1,
   "metadata": {},
   "outputs": [
    {
     "name": "stderr",
     "output_type": "stream",
     "text": [
      "C:\\Users\\79213\\AppData\\Roaming\\Python\\Python311\\site-packages\\tqdm\\auto.py:21: TqdmWarning: IProgress not found. Please update jupyter and ipywidgets. See https://ipywidgets.readthedocs.io/en/stable/user_install.html\n",
      "  from .autonotebook import tqdm as notebook_tqdm\n"
     ]
    }
   ],
   "source": [
    "import catboost as cb\n",
    "from sklearn.metrics import mean_squared_error\n",
    "import optuna\n",
    "import pandas as pd\n",
    "import matplotlib.pyplot as plt\n",
    "from sklearn.model_selection import train_test_split\n",
    "from sklearn.metrics import r2_score, mean_squared_error, mean_absolute_percentage_error"
   ]
  },
  {
   "cell_type": "code",
   "execution_count": null,
   "metadata": {},
   "outputs": [],
   "source": [
    "data = pd.read_excel('prelast.xlsx',skiprows=2)\n",
    "dat = data.drop(columns=['неделя'])\n",
    "dat['Начало нед'] = pd.to_datetime(dat['Начало нед'].values)\n",
    "dat = data.fillna(0)\n",
    "val = dat.iloc[244:]\n",
    "dat = dat.iloc[:244]\n",
    "train, test = train_test_split(dat,\n",
    "                test_size=0.2,\n",
    "                train_size=0.8,\n",
    "                shuffle=True)\n",
    "train = train.drop(columns=['Начало нед'])\n",
    "test = test.drop(columns=['Начало нед'])\n",
    "tr = Pool(train.drop(columns='Продажи, рубли'),label=train['Продажи, рубли'].values)\n",
    "ts = Pool(test.drop(columns='Продажи, рубли'),label=test['Продажи, рубли'].values)"
   ]
  },
  {
   "cell_type": "code",
   "execution_count": null,
   "metadata": {},
   "outputs": [],
   "source": [
    "def objective(trial):\n",
    "    params = {\n",
    "        \"iterations\": 10_000,\n",
    "        \"learning_rate\": trial.suggest_float(\"learning_rate\", 1e-4, 0.1, log=True),\n",
    "        \"depth\": trial.suggest_int(\"depth\", 6, 14),\n",
    "        \"subsample\": trial.suggest_float(\"subsample\", 0.05, 1.0),\n",
    "        \"colsample_bylevel\": trial.suggest_float(\"colsample_bylevel\", 0.05, 1.0),\n",
    "        \"min_data_in_leaf\": trial.suggest_int(\"min_data_in_leaf\", 10, 500),\n",
    "        \"grow_policy\": trial.suggest_categorical(\"grow_policy\", [\"Lossguide\", \"Depthwise\", \"SymmetricTree\"]),\n",
    "        \"loss_function\": trial.suggest_categorical('loss_function',['MAPE','RMSE','MAE']),\n",
    "        \"l2_leaf_reg\": trial.suggest_int('l2_leaf_reg',2,10)\n",
    "    }\n",
    "\n",
    "    model = cb.CatBoostRegressor(**params, silent=True)\n",
    "    model = model.fit(tr)\n",
    "    predictions = model.predict(ts)\n",
    "    rmse = mean_squared_error(test['Продажи, рубли'].values, predictions, squared=False)\n",
    "    return rmse\n",
    "\n",
    "study = optuna.create_study(direction=\"minimize\")\n",
    "study.optimize(objective, n_trials=200)"
   ]
  }
 ],
 "metadata": {
  "kernelspec": {
   "display_name": "Python 3",
   "language": "python",
   "name": "python3"
  },
  "language_info": {
   "codemirror_mode": {
    "name": "ipython",
    "version": 3
   },
   "file_extension": ".py",
   "mimetype": "text/x-python",
   "name": "python",
   "nbconvert_exporter": "python",
   "pygments_lexer": "ipython3",
   "version": "3.11.0"
  }
 },
 "nbformat": 4,
 "nbformat_minor": 2
}
