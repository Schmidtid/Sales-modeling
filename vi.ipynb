{
 "cells": [
  {
   "cell_type": "code",
   "execution_count": 1,
   "metadata": {
    "metadata": {}
   },
   "outputs": [
    {
     "data": {
      "application/vnd.jupyter.widget-view+json": {
       "model_id": "ce97ab7f57ac436cb3b6016cd6906630",
       "version_major": 2,
       "version_minor": 0
      },
      "text/plain": [
       "FileUpload(value=(), accept='.csv,.xlsx', description='Upload')"
      ]
     },
     "metadata": {},
     "output_type": "display_data"
    }
   ],
   "source": [
    "import pandas as pd\n",
    "import ipywidgets as widgets\n",
    "import matplotlib.pylab as plt\n",
    "from utils import model\n",
    "plt.rcParams['font.family'] = 'Comic Sans MS'\n",
    "plt.rcParams['font.size'] = 14\n",
    "plt.style.use('bmh')\n",
    "\n",
    "file_upload = widgets.FileUpload(\n",
    "    accept='.csv,.xlsx',\n",
    "    multiple=False\n",
    ")\n",
    "display(file_upload)\n",
    "save_button = widgets.Button(description=\"Upload\")"
   ]
  },
  {
   "cell_type": "code",
   "execution_count": 2,
   "metadata": {
    "metadata": {}
   },
   "outputs": [
    {
     "data": {
      "application/vnd.jupyter.widget-view+json": {
       "model_id": "aea853809f5641369db479c614d4ba6f",
       "version_major": 2,
       "version_minor": 0
      },
      "text/plain": [
       "Button(description='Load', layout=Layout(align_items='center', display='flex', flex_flow='column', width='700p…"
      ]
     },
     "metadata": {},
     "output_type": "display_data"
    },
    {
     "name": "stdout",
     "output_type": "stream",
     "text": [
      "File uploaded successfully.\n"
     ]
    },
    {
     "data": {
      "application/vnd.jupyter.widget-view+json": {
       "model_id": "4ecc1027528a42e1babbe34394e7caae",
       "version_major": 2,
       "version_minor": 0
      },
      "text/plain": [
       "VBox(children=(FloatSlider(value=0.0, description='investment in TV advertising', layout=Layout(display='flex'…"
      ]
     },
     "metadata": {},
     "output_type": "display_data"
    },
    {
     "data": {
      "application/vnd.jupyter.widget-view+json": {
       "model_id": "c1462a39cc114f26a322f997b5c2c1d7",
       "version_major": 2,
       "version_minor": 0
      },
      "text/plain": [
       "Output()"
      ]
     },
     "metadata": {},
     "output_type": "display_data"
    },
    {
     "data": {
      "application/vnd.jupyter.widget-view+json": {
       "model_id": "f352cea0df5443c8bfa034693c48db4d",
       "version_major": 2,
       "version_minor": 0
      },
      "text/plain": [
       "Output(layout=Layout(display='flex', flex_flow='row', justify_content='space-between', width='700px'))"
      ]
     },
     "metadata": {},
     "output_type": "display_data"
    }
   ],
   "source": [
    "def on_button_click(b):\n",
    "    if file_upload.value[0]:\n",
    "        file_name = f\"_{file_upload.value[0]['name']}\"\n",
    "        with open(file_name,'wb') as f:\n",
    "            content = file_upload.value[0]['content']\n",
    "            f.write(content)\n",
    "        if file_upload.value[0]['type'].split('/')[1]=='csv':\n",
    "            data = pd.read_csv(file_name)\n",
    "        else:\n",
    "            load = False\n",
    "            skiprows = 0\n",
    "            while not load:\n",
    "                try:\n",
    "                    data = pd.read_excel(file_name,skiprows=skiprows)\n",
    "                except:\n",
    "                    skiprows += 1\n",
    "                    data = pd.read_excel(file_name,skiprows=skiprows)\n",
    "                if data.columns.str.contains('Продажи').any()==True:\n",
    "                    break\n",
    "                skiprows += 1\n",
    "        cat = model(data)\n",
    "        print(\"File uploaded successfully.\")\n",
    "        output = widgets.Output()\n",
    "        with output:\n",
    "            cat.plot_data()\n",
    "        style = {'description_width': 'initial'}\n",
    "        form_item_layout = widgets.Layout(\n",
    "            display='flex',\n",
    "            flex_flow='row',\n",
    "            justify_content='space-between',width='700px')\n",
    "        slider1 = widgets.FloatSlider(description='investment in TV advertising',value=0, min=-1000000.0, max=1000000.0, step=1.0,style=style, layout=form_item_layout)\n",
    "        slider2 = widgets.FloatSlider(description='investment in digital advertising',value=0, min=-1000000.0, max=1000000.0, step=1.0,style=style, layout=form_item_layout)\n",
    "        slider3 = widgets.FloatSlider(description='estimated coverage (trp)',value=0, min=-1000000.0, max=1000000.0, step=1.0,style=style, layout=form_item_layout)\n",
    "        slider4 = widgets.FloatSlider(description='investment in radio advertising',value=0, min=-1000000.0, max=1000000.0, step=1.0,style=style, layout=form_item_layout)\n",
    "        slider5 = widgets.FloatSlider(description='Estimated investments of competitors',value=0, min=-10000000.0, max=10000000, step=1.0,style=style, layout=form_item_layout)\n",
    "        ioy = widgets.interactive_output(cat.plot_graph, {\n",
    "            'tv':slider1,\n",
    "            'digital':slider2,\n",
    "            'trp':slider3,\n",
    "            'radio':slider4,\n",
    "            'concurent':slider5})\n",
    "        ui = widgets.VBox([slider1,slider2,slider3, slider4, slider5])\n",
    "        ui.layout.align_items = 'center'\n",
    "        display(ui, ioy)\n",
    "        out = widgets.Output(layout=form_item_layout)\n",
    "        with out:\n",
    "            cat.plot_data()\n",
    "        display(out)\n",
    "    else:\n",
    "        print(\"No file uploaded.\")\n",
    "\n",
    "save_button.on_click(on_button_click)\n",
    "\n",
    "load_button = widgets.Button(description='Load',layout=widgets.Layout(display='flex',\n",
    "             flex_flow='column',width='700px',align_items='center'))\n",
    "load_button.on_click(on_button_click)\n",
    "display(load_button)"
   ]
  }
 ],
 "metadata": {
  "kernelspec": {
   "display_name": "test",
   "language": "python",
   "name": "python3"
  },
  "language_info": {
   "codemirror_mode": {
    "name": "ipython",
    "version": 3
   },
   "file_extension": ".py",
   "mimetype": "text/x-python",
   "name": "python",
   "nbconvert_exporter": "python",
   "pygments_lexer": "ipython3",
   "version": "3.10.14"
  }
 },
 "nbformat": 4,
 "nbformat_minor": 2
}
