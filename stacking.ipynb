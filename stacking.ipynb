{
 "cells": [
  {
   "cell_type": "code",
   "execution_count": 3,
   "metadata": {},
   "outputs": [],
   "source": [
    "import pandas as pd\n",
    "import matplotlib.pyplot as plt\n",
    "import catboost as cb\n",
    "import seaborn as sns\n",
    "from sklearn.model_selection import train_test_split\n",
    "from sklearn.metrics import r2_score, mean_squared_error, mean_absolute_percentage_error"
   ]
  },
  {
   "cell_type": "code",
   "execution_count": null,
   "metadata": {},
   "outputs": [],
   "source": [
    "from catboost import Pool, CatBoostRegressor\n",
    "from sklearn.model_selection import train_test_split\n",
    "import pandas as pd\n",
    "data = pd.read_excel('prelast.xlsx',skiprows=2)\n",
    "dat = data.drop(columns=['неделя'])\n",
    "dat['Начало нед'] = pd.to_datetime(dat['Начало нед'].values)\n",
    "dat = data.fillna(0)\n",
    "val = dat.iloc[244:]\n",
    "dat = dat.iloc[:244]\n",
    "train, test = train_test_split(dat,\n",
    "                test_size=0.2,\n",
    "                train_size=0.8,\n",
    "                shuffle=True)\n",
    "train = train.drop(columns=['Начало нед'])\n",
    "test = test.drop(columns=['Начало нед'])\n",
    "tr = Pool(train.drop(columns='Продажи, рубли'),label=train['Продажи, рубли'].values)\n",
    "ts = Pool(test.drop(columns='Продажи, рубли'),label=test['Продажи, рубли'].values)\n",
    "model = CatBoostRegressor(iterations=50_000,\n",
    "                            depth=5,\n",
    "                            random_seed=5,\n",
    "                            learning_rate=0.0001,\n",
    "                            loss_function='RMSE',\n",
    "                            eval_metric='R2',\n",
    "                            grow_policy='Lossguide',\n",
    "                            )\n",
    "mode = model.fit(tr, eval_set=ts, use_best_model=True, verbose_eval=True)\n"
   ]
  },
  {
   "cell_type": "code",
   "execution_count": null,
   "metadata": {},
   "outputs": [],
   "source": [
    "from catboost import CatBoostRegressor\n",
    "from sklearn.ensemble import StackingRegressor\n",
    "from sklearn.ensemble import RandomForestRegressor\n",
    "from sklearn.linear_model import LinearRegression\n",
    "from sklearn.model_selection import train_test_split\n",
    "\n",
    "params1 = {'iterations': 100000,\n",
    "'learning_rate': 0.08732908539257885,\n",
    " 'depth': 6,\n",
    " 'subsample': 0.0868766242583672,\n",
    " 'colsample_bylevel': 0.8929339919825698,\n",
    " 'min_data_in_leaf': 173,\n",
    " 'grow_policy': 'SymmetricTree',\n",
    " 'loss_function': 'RMSE',\n",
    " 'l2_leaf_reg': 9}\n",
    "\n",
    "params2 = {'iterations': 100000,\n",
    " 'learning_rate': 0.09782174747745702,\n",
    " 'depth': 12,\n",
    " 'loss_function': 'MAE',\n",
    " 'eval_metric': 'R2',\n",
    " 'subsample': 0.5500556447340613,\n",
    " 'colsample_bylevel': 0.8295198990606868,\n",
    " 'grow_policy': 'Lossguide',\n",
    " 'min_data_in_leaf': 50}\n",
    "\n",
    "\n",
    "base_models = [\n",
    "('catboost', CatBoostRegressor(**params1)),\n",
    "('catboost2', CatBoostRegressor(**params2)),\n",
    "]\n",
    "\n",
    "X_train = train.drop(columns='Продажи, рубли')\n",
    "y_train = train['Продажи, рубли'].values\n",
    "\n",
    "X_test = test.drop(columns='Продажи, рубли')\n",
    "y_test = test['Продажи, рубли'].values\n",
    "\n",
    "\n",
    "stacking_model = StackingRegressor(estimators=base_models, final_estimator=LinearRegression())\n",
    "\n",
    "stacking_model.fit(X_train, y_train)\n",
    "\n",
    "predictions = stacking_model.predict(X_test)\n"
   ]
  }
 ],
 "metadata": {
  "kernelspec": {
   "display_name": "Python 3",
   "language": "python",
   "name": "python3"
  },
  "language_info": {
   "codemirror_mode": {
    "name": "ipython",
    "version": 3
   },
   "file_extension": ".py",
   "mimetype": "text/x-python",
   "name": "python",
   "nbconvert_exporter": "python",
   "pygments_lexer": "ipython3",
   "version": "0.0.0"
  }
 },
 "nbformat": 4,
 "nbformat_minor": 2
}
